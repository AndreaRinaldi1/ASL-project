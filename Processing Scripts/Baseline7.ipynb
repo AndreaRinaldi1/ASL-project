{
 "cells": [
  {
   "cell_type": "markdown",
   "metadata": {},
   "source": [
    "## M/M/1"
   ]
  },
  {
   "cell_type": "code",
   "execution_count": 1,
   "metadata": {
    "collapsed": true
   },
   "outputs": [],
   "source": [
    "import numpy as np"
   ]
  },
  {
   "cell_type": "code",
   "execution_count": 96,
   "metadata": {
    "collapsed": true
   },
   "outputs": [],
   "source": [
    "path = \"/home/andrea/Desktop/Final/Baseline4/Set/\"\n",
    "workers = 64\n",
    "clients = 40"
   ]
  },
  {
   "cell_type": "code",
   "execution_count": 97,
   "metadata": {
    "collapsed": true
   },
   "outputs": [],
   "source": [
    "throughput = []\n",
    "lines = []\n",
    "        \n",
    "file = open(\"/home/andrea/Desktop/Final/Baseline4/resultsMW.txt\", \"r\")\n",
    "for line in file:        \n",
    "    lines.append(line[:-1])\n",
    "\n",
    "for i in range(0, len(lines)):\n",
    "    if lines[i] == \"Worker: \" +str(workers):\n",
    "        i += 3\n",
    "        while i < len(lines) and lines[i].split(\" \")[0] != \"Worker:\":\n",
    "            throughput.append(float(lines[i].split(\" \")[1]))\n",
    "            throughput.append(float(lines[i].split(\" \")[2]))          \n",
    "            throughput.append(float(lines[i].split(\" \")[3]))\n",
    "            i += 4"
   ]
  },
  {
   "cell_type": "code",
   "execution_count": 98,
   "metadata": {
    "collapsed": true
   },
   "outputs": [],
   "source": [
    "mu_ = np.max(throughput)"
   ]
  },
  {
   "cell_type": "code",
   "execution_count": 99,
   "metadata": {
    "collapsed": true
   },
   "outputs": [],
   "source": [
    "interArrivals = [[],[]]\n",
    "times = [[],[]]\n",
    "queues = [[],[]]\n",
    "requestTypes=[[],[]]\n",
    "\n",
    "for rep in range(1, 4):\n",
    "    for mw in [4]:\n",
    "        interArrivals[0].append(path+'rep'+str(rep)+'/MW'+str(mw)+'/Set_C'+str(clients)+'_T1_W'+str(workers)+'_R'+str(rep)+'/interArrivalTime.log')\n",
    "        times[0].append(path+'rep'+str(rep)+'/MW'+str(mw)+'/Set_C'+str(clients)+'_T1_W'+str(workers)+'_R'+str(rep)+'/times.log')\n",
    "        queues[0].append(path+'rep'+str(rep)+'/MW'+str(mw)+'/Set_C'+str(clients)+'_T1_W'+str(workers)+'_R'+str(rep)+'/QueueLength.log')\n",
    "        requestTypes[0].append(path+'rep'+str(rep)+'/MW'+str(mw)+'/Set_C'+str(clients)+'_T1_W'+str(workers)+'_R'+str(rep)+'/requestsType.log')\n",
    "    for mw in [5]:\n",
    "        interArrivals[1].append(path+'rep'+str(rep)+'/MW'+str(mw)+'/Set_C'+str(clients)+'_T1_W'+str(workers)+'_R'+str(rep)+'/interArrivalTime.log')\n",
    "        times[1].append(path+'rep'+str(rep)+'/MW'+str(mw)+'/Set_C'+str(clients)+'_T1_W'+str(workers)+'_R'+str(rep)+'/times.log')\n",
    "        queues[1].append(path+'rep'+str(rep)+'/MW'+str(mw)+'/Set_C'+str(clients)+'_T1_W'+str(workers)+'_R'+str(rep)+'/QueueLength.log')\n",
    "        requestTypes[1].append(path+'rep'+str(rep)+'/MW'+str(mw)+'/Set_C'+str(clients)+'_T1_W'+str(workers)+'_R'+str(rep)+'/requestsType.log')\n",
    "\n"
   ]
  },
  {
   "cell_type": "code",
   "execution_count": 100,
   "metadata": {
    "scrolled": true
   },
   "outputs": [
    {
     "name": "stdout",
     "output_type": "stream",
     "text": [
      "ro: 0.953737729811\n",
      "mu: 9756.02083333\n",
      "lamda: 9304.68516157\n",
      "queue length: 67.4134170726\n",
      "queue length little: 76.4429075349\n",
      "19.6621491673\n",
      "jobs in service: 103.265521412\n",
      "jobs in system: 180.063772898\n",
      "20.6158868971\n"
     ]
    }
   ],
   "source": [
    "lines = []\n",
    "interarrivalTimes = np.zeros((2, 3))\n",
    "serviceTimes = np.zeros((2, 3))\n",
    "waitingTimes = np.zeros((2, 3))\n",
    "queueLengths = np.zeros((2, 3))\n",
    "numberOfRequests = np.zeros((2, 3))\n",
    "timeInSystem = np.zeros((2, 3))\n",
    "\n",
    "meanServiceTime = np.zeros(3)\n",
    "meanTimeInSystem = np.zeros(3)\n",
    "lambda_ = np.zeros(3)\n",
    "waitingtime = np.zeros(3)\n",
    "jobsInQueue = np.zeros(3)\n",
    "requests = np.zeros(3)\n",
    "\n",
    "for k in range(0, 2):\n",
    "    i = 0\n",
    "    for file in interArrivals[k]:\n",
    "        file1= open(file, 'r')\n",
    "        lines = []\n",
    "        for line in file1:\n",
    "            lines.append(int(line[:-1]))\n",
    "\n",
    "        x = np.asarray(lines[5:-5])\n",
    "        interarrivalTimes[k][i] = np.mean(x)\n",
    "        i += 1 \n",
    "for l in range(0, 3):\n",
    "    lambda_[l] = (1000000000 / interarrivalTimes[0][l] + 1000000000 / interarrivalTimes[1][l])\n",
    "\n",
    "for k in range(0, 2):\n",
    "    i = 0\n",
    "    for file in times[k]:\n",
    "        file1= open(file, 'r')\n",
    "        serv = []\n",
    "        queue = []\n",
    "        total = []\n",
    "        for line in file1:\n",
    "            f = line.split(\"\\t\")\n",
    "            if len(f) >= 7:\n",
    "                serv.append(f[5])\n",
    "                queue.append(f[2])\n",
    "                total.append(f[-1])\n",
    "        serv = serv[5:-5]\n",
    "        queue = queue[5:-5]\n",
    "        total = total[5:-5]\n",
    "        x = np.asarray(serv)\n",
    "        y = np.asarray(queue)\n",
    "        z = np.asarray(total)\n",
    "        x = x.astype(int)\n",
    "        y = y.astype(int)\n",
    "        z = z.astype(int)\n",
    "        serviceTimes[k][i] = np.mean(x)\n",
    "        waitingTimes[k][i] = np.mean(y)\n",
    "        timeInSystem[k][i] = np.mean(z)\n",
    "        i += 1 \n",
    "for l in range(0, 3):\n",
    "    waitingtime[l] = ((waitingTimes[0][l]/1000000000)+(waitingTimes[1][l]/1000000000))/2\n",
    "    meanServiceTime[l] = (serviceTimes[0][l]/1000000000 + serviceTimes[1][l]/1000000000)/2\n",
    "    meanTimeInSystem[l] = (timeInSystem[0][l]/1000000000 + timeInSystem[1][l]/1000000000)/2\n",
    "    \n",
    "for k in range(0, 2):\n",
    "    i = 0\n",
    "    for file in queues[k]:\n",
    "        file1= open(file, 'r')\n",
    "        lines = []\n",
    "        for line in file1:\n",
    "            lines.append(line)\n",
    "        j = 0\n",
    "        while lines[j] == \"0\\n\":\n",
    "            j += 1\n",
    "        j = j\n",
    "        p = len(lines)-1\n",
    "        while lines[p] == \"0\\n\":\n",
    "            p -= 1\n",
    "        p = (len(lines)-p)\n",
    "        if p == 0:\n",
    "            p = 1\n",
    "        x = np.asarray(lines[j:-p])\n",
    "        x = x.astype(int)\n",
    "        queueLengths[k][i] = np.mean(x)\n",
    "        i += 1 \n",
    "        \n",
    "for l in range(0, 3):\n",
    "    jobsInQueue[l] = (queueLengths[0][l] + queueLengths[1][l])\n",
    "\n",
    "    \n",
    "for k in range(0, 2):\n",
    "    i = 0\n",
    "    for file in requestTypes[k]:\n",
    "        file1= open(file, 'r')\n",
    "        numberOfRequests[k][i] = file1.readline().split(\" \")[1]\n",
    "        i += 1 \n",
    "\n",
    "for l in range(0, 3):\n",
    "    requests[l] = (numberOfRequests[0][l] + numberOfRequests[1][l])\n",
    "    \n",
    "\n",
    "ro = np.mean(lambda_ / mu_)\n",
    "print(\"ro: \" + str(ro))\n",
    "print(\"mu: \" + str(mu_))\n",
    "print(\"lamda: \" + str(np.mean(lambda_)))\n",
    "print(\"queue length: \" + str(np.mean(jobsInQueue)))\n",
    "print(\"queue length little: \" + str(np.mean((waitingtime)*lambda_)))\n",
    "print(((ro**2)/(1-ro)))\n",
    "\n",
    "print(\"jobs in service: \" + str(np.mean(lambda_*meanServiceTime)))\n",
    "print(\"jobs in system: \" + str(np.mean(lambda_*meanTimeInSystem)))\n",
    "print(ro/(1-ro))"
   ]
  },
  {
   "cell_type": "code",
   "execution_count": 493,
   "metadata": {
    "collapsed": true
   },
   "outputs": [],
   "source": [
    "fileOut = open(\"/home/andrea/Desktop/Final/Baseline7/MM1/model_C\"+str(clients)+\"_W\"+str(workers)+\".txt\", \"w\")"
   ]
  },
  {
   "cell_type": "code",
   "execution_count": 495,
   "metadata": {
    "collapsed": true
   },
   "outputs": [],
   "source": [
    "fileOut.write(\"lambda = 1/meanInterarrivalTime: \" + str(np.mean(lambda_)))\n",
    "fileOut.write(\"\\nlambda = total number of requests over the 80 seconds test: \" + str(np.mean(requests/80)))\n",
    "fileOut.write(\"\\nmu = maximum throughput for this configuration of worker threads: \" +str(mu_))\n",
    "fileOut.write(\"\\nro = lambda/mu: \" +str(np.mean(ro)))\n",
    "fileOut.write(\"\\naverage number of jobs in the queue by instrumentation of the MW: \" + str(np.mean(jobsInQueue)))\n",
    "fileOut.write(\"\\navg number of jobs in queue as lambda * meanWaitingTime: \"+ str(np.mean(waitingtime*lambda_)))\n",
    "fileOut.write(\"\\navg number of jobs in service as lambda * meanServiceTime: \"+ str(np.mean(lambda_*meanServiceTime)))\n",
    "fileOut.write(\"\\navg number of jobs in the system as lambda *meanTimeInSystem: \" + str(np.mean(lambda_*meanTimeInSystem)))\n",
    "fileOut.write(\"\\navg number of jobs in the system as lambda * meanWaitingTime + lambda * meanServiceTime: \" + str(np.mean(lambda_ * waitingtime + np.mean(lambda_*meanServiceTime))))\n",
    "fileOut.close()"
   ]
  },
  {
   "cell_type": "markdown",
   "metadata": {},
   "source": [
    "## M/M/m"
   ]
  },
  {
   "cell_type": "code",
   "execution_count": 1,
   "metadata": {
    "collapsed": true
   },
   "outputs": [],
   "source": [
    "import math\n",
    "import numpy as np\n",
    "path = \"/home/andrea/Desktop/Final/Baseline4/Set/\""
   ]
  },
  {
   "cell_type": "code",
   "execution_count": 2,
   "metadata": {
    "collapsed": true
   },
   "outputs": [],
   "source": [
    "workers = 64\n",
    "servers = workers*2\n",
    "clients = 40\n",
    "\n",
    "\n",
    "interArrivals = [[],[]]\n",
    "for rep in range(1, 4):\n",
    "    for mw in [4]:\n",
    "        interArrivals[0].append(path+'rep'+str(rep)+'/MW'+str(mw)+'/Set_C'+str(clients)+'_T1_W'+str(workers)+'_R'+str(rep)+'/interArrivalTime.log')\n",
    "    for mw in [5]:\n",
    "        interArrivals[1].append(path+'rep'+str(rep)+'/MW'+str(mw)+'/Set_C'+str(clients)+'_T1_W'+str(workers)+'_R'+str(rep)+'/interArrivalTime.log')"
   ]
  },
  {
   "cell_type": "code",
   "execution_count": 3,
   "metadata": {
    "collapsed": true
   },
   "outputs": [],
   "source": [
    "lines = []\n",
    "interarrivalTimes = np.zeros((2, 3))\n",
    "lambda_ = np.zeros(3)\n",
    "\n",
    "for k in range(0, 2):\n",
    "    i = 0\n",
    "    for file in interArrivals[k]:\n",
    "        file1= open(file, 'r')\n",
    "        lines = []\n",
    "        for line in file1:\n",
    "            lines.append(int(line[:-1]))\n",
    "\n",
    "        x = np.asarray(lines[5:-5])\n",
    "        interarrivalTimes[k][i] = np.mean(x)\n",
    "        i += 1 \n",
    "for l in range(0, 3):\n",
    "    lambda_[l] = (1000000000 / interarrivalTimes[0][l] + 1000000000 / interarrivalTimes[1][l])"
   ]
  },
  {
   "cell_type": "code",
   "execution_count": 13,
   "metadata": {
    "collapsed": true
   },
   "outputs": [],
   "source": [
    "files = []\n",
    "lines = []\n",
    "tutto = []\n",
    "allServiceTimes = [[[] for i in range(workers)] for j in range(2)]\n",
    "partialServiceTimes = [[] for i in range(workers)]\n",
    "\n",
    "for rep in range(3, 4):\n",
    "    for mw in [4, 5]:\n",
    "        for cli in [clients]:\n",
    "            file = open(path+\"rep\"+str(rep)+\"/MW\"+str(mw)+\"/Set_C\"+str(cli)+\"_T1_W\"+str(workers)+\"_R\"+str(rep)+\"/times.log\")\n",
    "            ind = 0\n",
    "            lines = []\n",
    "            for line in file:\n",
    "                lines.append(line)\n",
    "            i = 1\n",
    "            while i < len(lines)-1:\n",
    "                worker = lines[i].split(\"\\t\")[0]\n",
    "                while worker == \"0\":\n",
    "                    if lines[i] != \"null\\n\":\n",
    "                        partialServiceTimes[0].append(int(lines[i].split(\"\\t\")[5]))\n",
    "                    i += 1\n",
    "                    if i < len(lines)-1:\n",
    "                        worker = lines[i].split(\"\\t\")[0]\n",
    "                    else:\n",
    "                        for j in range(0, workers):\n",
    "                            allServiceTimes[mw-4][j].append(1000000000/np.mean(partialServiceTimes[j]))\n",
    "                        partialServiceTimes = [[] for l in range(workers)]\n",
    "                        break\n",
    "                while worker != \"0\":\n",
    "                    if lines[i] != \"null\\n\":\n",
    "                        partialServiceTimes[int(worker)].append(int(lines[i].split(\"\\t\")[5]))\n",
    "                    i += 1\n",
    "                    if i < len(lines)-1:\n",
    "                        worker = lines[i].split(\"\\t\")[0]\n",
    "                    else:\n",
    "                        for j in range(0, workers):\n",
    "                            allServiceTimes[mw-4][j].append(1000000000/np.mean(partialServiceTimes[j]))\n",
    "                        partialServiceTimes = [[] for l in range(workers)]\n",
    "                        break\n",
    "                if i < len(lines)-1:\n",
    "                    for j in range(0, workers):\n",
    "                        allServiceTimes[mw-4][j].append(1000000000/np.mean(partialServiceTimes[j]))\n",
    "                    partialServiceTimes = [[] for l in range(workers)]"
   ]
  },
  {
   "cell_type": "code",
   "execution_count": 112,
   "metadata": {
    "collapsed": true
   },
   "outputs": [],
   "source": [
    "index = 100000000000000\n",
    "for i in range(0, len(allServiceTimes)):\n",
    "    for j in range(0, len(allServiceTimes[i])):\n",
    "        if len(allServiceTimes[i][j]) < index:\n",
    "            index = len(allServiceTimes[i][j])\n",
    "            \n",
    "totalService = []\n",
    "for k in range(0, index):\n",
    "    somma = 0\n",
    "    for i in range(0, len(allServiceTimes)):\n",
    "        for j in range(0, len(allServiceTimes[i])):\n",
    "            somma += allServiceTimes[i][j][k]\n",
    "    totalService.append(somma)\n",
    "\n",
    "totalService = [x for x in totalService if str(x) != 'nan']\n",
    "\n",
    "mu_ = np.max(totalService)\n",
    "lambda_ = np.mean(lambda_)\n",
    "ro = lambda_/mu_\n",
    "\n",
    "\n",
    "secondTerm = 0\n",
    "for n in range(1, servers):\n",
    "    secondTerm += (float((servers*ro)**n)/math.factorial(n))\n",
    "p0 = 1/((((servers*ro)**(servers))/((math.factorial(servers))*(1-ro))) +1 + secondTerm)\n",
    "\n",
    "\n",
    "erl = (((servers*ro)**(servers))/((math.factorial(servers))*(1-ro)))*p0\n",
    "\n",
    "meanJobsInService = servers*ro\n",
    "meanJobsInQueue = (ro*erl)/(1-ro)"
   ]
  },
  {
   "cell_type": "code",
   "execution_count": 114,
   "metadata": {
    "collapsed": true
   },
   "outputs": [],
   "source": [
    "fileOut = open(\"/home/andrea/Desktop/Final/Baseline7/MMm/model_C\"+str(clients)+\"_W\"+str(workers)+\".txt\", \"a\")"
   ]
  },
  {
   "cell_type": "code",
   "execution_count": 115,
   "metadata": {
    "collapsed": true
   },
   "outputs": [],
   "source": [
    "fileOut.write(\"lambda = 1/meanInterarrivalTime: \" + str(lambda_))\n",
    "fileOut.write(\"\\nmu = maximum service rate for this configuration of worker threads: \" +str(mu2))\n",
    "fileOut.write(\"\\nro = lambda/mu: \" +str(ro2))\n",
    "fileOut.write(\"\\navg number of jobs in queue as (ro*erlangC)/(1-ro): \"+ str(meanJobsInQueue2))\n",
    "fileOut.write(\"\\navg number of jobs in the service as workers*ro: \" + str(meanJobsInService2))\n",
    "fileOut.close()"
   ]
  },
  {
   "cell_type": "markdown",
   "metadata": {},
   "source": [
    "### Network of Queues"
   ]
  },
  {
   "cell_type": "code",
   "execution_count": 1,
   "metadata": {
    "collapsed": true
   },
   "outputs": [],
   "source": [
    "import numpy as np"
   ]
  },
  {
   "cell_type": "markdown",
   "metadata": {},
   "source": [
    "### 3.1"
   ]
  },
  {
   "cell_type": "code",
   "execution_count": 1,
   "metadata": {},
   "outputs": [
    {
     "name": "stdout",
     "output_type": "stream",
     "text": [
      "1\n",
      "2\n",
      "3\n"
     ]
    }
   ],
   "source": [
    "files = []\n",
    "lines = []\n",
    "path = \"/home/andrea/Desktop/Final/Baseline3Second/3.1/Set/\"\n",
    "allServiceTimes = []\n",
    "allTotalTimes = []\n",
    "allResponseTimes = []\n",
    "allProcessingTimes = []\n",
    "for rep in range(1, 4):\n",
    "    print(rep)\n",
    "    file = open(path+\"rep\"+str(rep)+\"/MW/Set_C24_T2_W8_R\"+str(rep)+\"/times.log\")\n",
    "    ind = 0\n",
    "    for line in file:\n",
    "        if ind != 0 and len(line.split(\"\\t\")) > 6:\n",
    "            splitted = line.split(\"\\t\")\n",
    "            allServiceTimes.append(int(splitted[5]))\n",
    "            allResponseTimes.append(int(splitted[6]))\n",
    "            allTotalTimes.append(int(splitted[-1]))\n",
    "            allProcessingTimes.append(int(splitted[4]))\n",
    "        ind += 1\n"
   ]
  },
  {
   "cell_type": "code",
   "execution_count": 2,
   "metadata": {
    "collapsed": true
   },
   "outputs": [],
   "source": [
    "netThreadTimes = []\n",
    "for i in range(0, len(allTotalTimes)):\n",
    "    netThreadTimes.append(allTotalTimes[i] - allResponseTimes[i])"
   ]
  },
  {
   "cell_type": "code",
   "execution_count": 13,
   "metadata": {},
   "outputs": [
    {
     "name": "stdout",
     "output_type": "stream",
     "text": [
      "1.44024793016e-05\n"
     ]
    }
   ],
   "source": [
    "meanThread = np.mean(netThreadTimes)/1000000000\n",
    "print(meanThread)"
   ]
  },
  {
   "cell_type": "code",
   "execution_count": 128,
   "metadata": {},
   "outputs": [
    {
     "name": "stdout",
     "output_type": "stream",
     "text": [
      "0.00332254544862\n"
     ]
    }
   ],
   "source": [
    "meanServ = np.mean(allServiceTimes)/1000000000\n",
    "print(meanServ)"
   ]
  },
  {
   "cell_type": "code",
   "execution_count": 25,
   "metadata": {
    "collapsed": true
   },
   "outputs": [
    {
     "name": "stdout",
     "output_type": "stream",
     "text": [
      "1\n",
      "1\n",
      "1\n",
      "1\n",
      "1\n",
      "1\n",
      "1\n",
      "1\n",
      "1\n",
      "1\n",
      "1\n",
      "1\n",
      "1\n",
      "2\n",
      "2\n",
      "2\n",
      "2\n",
      "2\n",
      "2\n",
      "2\n",
      "2\n",
      "2\n",
      "2\n",
      "2\n",
      "2\n",
      "2\n",
      "3\n",
      "3\n",
      "3\n",
      "3\n",
      "3\n",
      "3\n",
      "3\n",
      "3\n",
      "3\n",
      "3\n",
      "3\n",
      "3\n",
      "3\n"
     ]
    }
   ],
   "source": [
    "files = []\n",
    "lines = []\n",
    "path = \"/home/andrea/Desktop/Final/Baseline3Second/3.1/Get/\"\n",
    "allTotalTimes = [[] for i in range(13)]\n",
    "allResponseTimes = [[] for i in range(13)]\n",
    "for rep in range(1, 4):\n",
    "    cli = 0\n",
    "    for clients in [1, 4, 8, 12, 16, 20, 24, 28, 32, 45, 60, 85, 110]:\n",
    "        file = open(path+\"rep\"+str(rep)+\"/MW/Get_C\"+str(clients)+\"_T2_W8_R\"+str(rep)+\"/times.log\")\n",
    "        ind = 0\n",
    "        for line in file:\n",
    "            if ind != 0 and len(line.split(\"\\t\")) > 6:\n",
    "                splitted = line.split(\"\\t\")\n",
    "                allResponseTimes[cli].append(int(splitted[6]))\n",
    "                allTotalTimes[cli].append(int(splitted[-1]))\n",
    "            ind += 1\n",
    "        cli += 1\n",
    "        "
   ]
  },
  {
   "cell_type": "code",
   "execution_count": 26,
   "metadata": {
    "collapsed": true
   },
   "outputs": [],
   "source": [
    "netThreadTimes = [[] for i in range(13)]\n",
    "for i in range(0, len(allTotalTimes)):\n",
    "    for j in range(0, len(allTotalTimes[i])):\n",
    "        netThreadTimes[i].append(allTotalTimes[i][j] - allResponseTimes[i][j])"
   ]
  },
  {
   "cell_type": "code",
   "execution_count": 27,
   "metadata": {
    "collapsed": true
   },
   "outputs": [],
   "source": [
    "netThread = np.zeros(13)\n",
    "for i in range(0, 13):\n",
    "    netThread[i] = np.mean(netThreadTimes[i])"
   ]
  },
  {
   "cell_type": "code",
   "execution_count": 28,
   "metadata": {},
   "outputs": [
    {
     "data": {
      "text/plain": [
       "array([ 16514.46235065,   7957.55036957,   7139.85945874,   6690.52600707,\n",
       "         8821.18333736,   9141.68156734,  29662.91741994,  11495.34645498,\n",
       "        11275.05189592,   7635.46574357,  11604.17698289,  13089.18759663,\n",
       "        15341.54294134])"
      ]
     },
     "execution_count": 28,
     "metadata": {},
     "output_type": "execute_result"
    }
   ],
   "source": [
    "netThread"
   ]
  },
  {
   "cell_type": "markdown",
   "metadata": {},
   "source": [
    "### 3.2"
   ]
  },
  {
   "cell_type": "code",
   "execution_count": 201,
   "metadata": {},
   "outputs": [
    {
     "name": "stdout",
     "output_type": "stream",
     "text": [
      "1\n",
      "2\n",
      "3\n"
     ]
    }
   ],
   "source": [
    "files = []\n",
    "lines = []\n",
    "path = \"/home/andrea/Desktop/Final/Baseline3Second/3.2/Set/\"\n",
    "allServiceTimes = [[] for i in range(2)]\n",
    "allTotalTimes = [[] for i in range(2)]\n",
    "allResponseTimes = [[] for i in range(2)]\n",
    "allProcessingTimes = [[]for i in range(2)]\n",
    "for rep in range(1, 4):\n",
    "    print(rep)\n",
    "    for mw in [4, 5]:\n",
    "        file = open(path+\"MW\"+str(mw)+\"/rep\"+str(rep)+\"/Set_C24_T1_W8_R\"+str(rep)+\"/times.log\")\n",
    "        ind = 0\n",
    "        for line in file:\n",
    "            if ind != 0 and len(line.split(\"\\t\")) > 6:\n",
    "                splitted = line.split(\"\\t\")\n",
    "                allServiceTimes[mw-4].append(int(splitted[5]))\n",
    "                allResponseTimes[mw-4].append(int(splitted[6]))\n",
    "                allTotalTimes[mw-4].append(int(splitted[-1]))\n",
    "                allProcessingTimes[mw-4].append(int(splitted[4]))\n",
    "            ind += 1\n"
   ]
  },
  {
   "cell_type": "code",
   "execution_count": 202,
   "metadata": {
    "collapsed": true
   },
   "outputs": [],
   "source": [
    "netThreadTimes = [[] for i in range(2)]\n",
    "for i in range(0, len(allTotalTimes)):\n",
    "    for j in range(0, len(allTotalTimes[i])):\n",
    "        netThreadTimes[i].append(allTotalTimes[i][j] - allResponseTimes[i][j])"
   ]
  },
  {
   "cell_type": "code",
   "execution_count": 203,
   "metadata": {
    "collapsed": true
   },
   "outputs": [],
   "source": [
    "meanThread = np.zeros(2)\n",
    "for i in range(0, len(netThreadTimes)):\n",
    "    meanThread[i] = np.mean(netThreadTimes[i])"
   ]
  },
  {
   "cell_type": "code",
   "execution_count": 204,
   "metadata": {},
   "outputs": [
    {
     "name": "stdout",
     "output_type": "stream",
     "text": [
      "[  2.47072445e-05   2.20324286e-05]\n"
     ]
    }
   ],
   "source": [
    "meanThread = meanThread/1000000000\n",
    "print(meanThread)"
   ]
  },
  {
   "cell_type": "code",
   "execution_count": 211,
   "metadata": {},
   "outputs": [
    {
     "name": "stdout",
     "output_type": "stream",
     "text": [
      "1\n",
      "2\n",
      "3\n"
     ]
    }
   ],
   "source": [
    "requests = np.zeros(2)\n",
    "for rep in range(1, 4):\n",
    "    print(rep)\n",
    "    for mw in [4, 5]:\n",
    "        file = open(path+\"MW\"+str(mw)+\"/rep\"+str(rep)+\"/Set_C24_T1_W8_R\"+str(rep)+\"/requestsType.log\")\n",
    "        #file.readline()\n",
    "        #file.readline()\n",
    "        requests[mw-4] += int(file.readline().split(\" \")[1])"
   ]
  },
  {
   "cell_type": "code",
   "execution_count": 212,
   "metadata": {},
   "outputs": [
    {
     "name": "stdout",
     "output_type": "stream",
     "text": [
      "[ 0.50953354  0.49046646]\n"
     ]
    }
   ],
   "source": [
    "balance = requests/(sum(requests))\n",
    "print(balance)"
   ]
  },
  {
   "cell_type": "code",
   "execution_count": 213,
   "metadata": {
    "collapsed": true
   },
   "outputs": [],
   "source": [
    "meanServ = np.zeros(2)\n",
    "for i in range(0, len(allServiceTimes)):\n",
    "    meanServ[i] = np.mean(allServiceTimes[i])"
   ]
  },
  {
   "cell_type": "code",
   "execution_count": 214,
   "metadata": {},
   "outputs": [
    {
     "name": "stdout",
     "output_type": "stream",
     "text": [
      "[ 0.00151284  0.0015849 ]\n"
     ]
    }
   ],
   "source": [
    "meanServ = meanServ/1000000000\n",
    "print(meanServ)"
   ]
  }
 ],
 "metadata": {
  "kernelspec": {
   "display_name": "Python 3",
   "language": "python",
   "name": "python3"
  },
  "language_info": {
   "codemirror_mode": {
    "name": "ipython",
    "version": 3
   },
   "file_extension": ".py",
   "mimetype": "text/x-python",
   "name": "python",
   "nbconvert_exporter": "python",
   "pygments_lexer": "ipython3",
   "version": "3.6.1"
  }
 },
 "nbformat": 4,
 "nbformat_minor": 2
}
